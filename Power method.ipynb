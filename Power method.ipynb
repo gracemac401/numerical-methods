{
 "cells": [
  {
   "cell_type": "code",
   "execution_count": 1,
   "metadata": {},
   "outputs": [],
   "source": [
    "import math\n",
    "import numpy as np"
   ]
  },
  {
   "cell_type": "code",
   "execution_count": 27,
   "metadata": {},
   "outputs": [],
   "source": [
    "def power_method(A, x, k_max):\n",
    "    r = 0\n",
    "    y = np.zeros((A.shape[1],1))\n",
    "    for k in range(1, k_max):\n",
    "        y = np.matmul(A, x)\n",
    "        r = y[A.shape[1]-1][0] / x[A.shape[1]-1][0]\n",
    "        x = y\n",
    "    print(x)\n",
    "    return r"
   ]
  },
  {
   "cell_type": "code",
   "execution_count": 41,
   "metadata": {},
   "outputs": [
    {
     "name": "stdout",
     "output_type": "stream",
     "text": [
      "[[5049425]\n",
      " [7018714]\n",
      " [7329752]\n",
      " [6917882]]\n",
      "30.278640020308657\n"
     ]
    }
   ],
   "source": [
    "a_matrix = np.array([[5, 7, 6, 5], [7, 10, 8, 7], [6, 8, 10, 9], [5, 7, 9, 10]])\n",
    "# choose x0 = [0 0 0 1]\n",
    "x = np.array([0, 0, 0, 1]).reshape(4, 1)\n",
    "ans = power_method(a_matrix, x, 6)\n",
    "print(ans)"
   ]
  },
  {
   "cell_type": "code",
   "execution_count": null,
   "metadata": {},
   "outputs": [],
   "source": []
  }
 ],
 "metadata": {
  "kernelspec": {
   "display_name": "Python 3",
   "language": "python",
   "name": "python3"
  },
  "language_info": {
   "codemirror_mode": {
    "name": "ipython",
    "version": 3
   },
   "file_extension": ".py",
   "mimetype": "text/x-python",
   "name": "python",
   "nbconvert_exporter": "python",
   "pygments_lexer": "ipython3",
   "version": "3.7.4"
  }
 },
 "nbformat": 4,
 "nbformat_minor": 2
}
