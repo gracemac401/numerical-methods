{
 "cells": [
  {
   "cell_type": "code",
   "execution_count": 1,
   "metadata": {},
   "outputs": [],
   "source": [
    "import math"
   ]
  },
  {
   "cell_type": "code",
   "execution_count": 2,
   "metadata": {},
   "outputs": [],
   "source": [
    "def coef(f, n, x, a):\n",
    "    for i in range(n):\n",
    "        a[i] = f(x[i])\n",
    "    for j in range(1, n):\n",
    "        #print(\"J: \",j)\n",
    "        for i in range(n-1, j-1, -1):\n",
    "            #print(\"I: \",i)\n",
    "            a[i] = (a[i]-a[i-1])/(x[i]-x[i-j])\n",
    "    return a"
   ]
  },
  {
   "cell_type": "code",
   "execution_count": 3,
   "metadata": {},
   "outputs": [],
   "source": [
    "f = lambda x: math.exp(x)\n",
    "n = 11\n",
    "l = 0\n",
    "u = 2\n",
    "x = [None]*n\n",
    "a = [None]*n"
   ]
  },
  {
   "cell_type": "code",
   "execution_count": 4,
   "metadata": {},
   "outputs": [],
   "source": [
    "h = (u-l)/n\n",
    "for i in range(n):\n",
    "    x[i] = l + h*i"
   ]
  },
  {
   "cell_type": "code",
   "execution_count": 5,
   "metadata": {
    "scrolled": false
   },
   "outputs": [
    {
     "name": "stdout",
     "output_type": "stream",
     "text": [
      "[1.0, 1.096678561194622, 0.6013519332919572, 0.21982992432472898, 0.060270691279029995, 0.013219514998727587, 0.0024162597815970033, 0.0003785514712375058, 5.189366075673808e-05, 6.323406793314108e-06, 6.934748895765789e-07]\n"
     ]
    }
   ],
   "source": [
    "a = coef(f, n, x, a)\n",
    "print(a)"
   ]
  },
  {
   "cell_type": "code",
   "execution_count": 6,
   "metadata": {},
   "outputs": [],
   "source": [
    "def eval(n, x, a, t):\n",
    "    y = a[n-1]\n",
    "    for i in range(n-2, -1, -1):\n",
    "        y = y * (t-x[i]) + a[i]\n",
    "    return y"
   ]
  },
  {
   "cell_type": "code",
   "execution_count": 8,
   "metadata": {},
   "outputs": [
    {
     "name": "stdout",
     "output_type": "stream",
     "text": [
      "Max error for 100 points [0,2]:  1.9809860418718017e-08\n"
     ]
    }
   ],
   "source": [
    "h = (2-0)/100.\n",
    "maxE = 0\n",
    "for i in range(101):\n",
    "    t = h*i\n",
    "    p = eval(n, x, a, t)\n",
    "    y = f(t)\n",
    "    E = abs(y - p)\n",
    "    if (E > maxE):\n",
    "        maxE = E\n",
    "print(\"Max error for 100 points [0,2]: \",maxE)"
   ]
  },
  {
   "cell_type": "code",
   "execution_count": 9,
   "metadata": {},
   "outputs": [
    {
     "name": "stdout",
     "output_type": "stream",
     "text": [
      "x =  2.0  p(x) =  7.38905607912079  f(x) =  7.38905609893065\n"
     ]
    }
   ],
   "source": [
    "print(\"x = \", t, \" p(x) = \", p, \" f(x) = \", y)"
   ]
  }
 ],
 "metadata": {
  "kernelspec": {
   "display_name": "Python 3",
   "language": "python",
   "name": "python3"
  },
  "language_info": {
   "codemirror_mode": {
    "name": "ipython",
    "version": 3
   },
   "file_extension": ".py",
   "mimetype": "text/x-python",
   "name": "python",
   "nbconvert_exporter": "python",
   "pygments_lexer": "ipython3",
   "version": "3.7.4"
  }
 },
 "nbformat": 4,
 "nbformat_minor": 2
}
