{
 "cells": [
  {
   "cell_type": "code",
   "execution_count": 3,
   "metadata": {},
   "outputs": [],
   "source": [
    "import math\n",
    "import numpy as np"
   ]
  },
  {
   "cell_type": "code",
   "execution_count": 4,
   "metadata": {},
   "outputs": [],
   "source": [
    "def bisection(f, a, b, nmax, E):\n",
    "    fa = f(a)\n",
    "    fb = f(b)\n",
    "    if np.sign(fa) == np.sign(fb):\n",
    "        print(a, b, fa, fb)\n",
    "        return\n",
    "    error = b - a\n",
    "    n = 0\n",
    "    while (n < nmax):\n",
    "        error = error / 2\n",
    "        c = a + error\n",
    "        fc = f(c)\n",
    "        if (abs(error) < E):\n",
    "            print(n, c, fc, error)\n",
    "            return\n",
    "        if (np.sign(fa) != np.sign(fc)):\n",
    "            b = c\n",
    "            fb = fc\n",
    "        else:\n",
    "            a = c\n",
    "            fa = fc\n",
    "        print(n, c, fc, error)\n",
    "        n += 1"
   ]
  },
  {
   "cell_type": "code",
   "execution_count": 34,
   "metadata": {
    "scrolled": true
   },
   "outputs": [
    {
     "name": "stdout",
     "output_type": "stream",
     "text": [
      "0 1.0 0.0 0.5\n",
      "1 0.75 2310.373306274414 0.25\n"
     ]
    }
   ],
   "source": [
    "f = lambda x: x**8 - 36*x**7 + 546*x**6 - 4536*x**5 + 22449*x**4 - 67284*x**3 + 118124*x**2 - 109584*x + 40320\n",
    "bisection(f, 0.5, 1.5, 2, 1E-7)"
   ]
  },
  {
   "cell_type": "markdown",
   "metadata": {},
   "source": [
    "bisection(f, 0.0, 1.0, 20, 0.000001)"
   ]
  },
  {
   "cell_type": "markdown",
   "metadata": {},
   "source": [
    "bisection(f, 1.0, 2.0, 20, 0.000001)"
   ]
  },
  {
   "cell_type": "code",
   "execution_count": 35,
   "metadata": {},
   "outputs": [],
   "source": [
    "coeff = [1, -36, 546, -4536, 22449, -67284, 118124, -109584, 40320]"
   ]
  },
  {
   "cell_type": "code",
   "execution_count": 36,
   "metadata": {},
   "outputs": [
    {
     "data": {
      "text/plain": [
       "array([8., 7., 6., 5., 4., 3., 2., 1.])"
      ]
     },
     "execution_count": 36,
     "metadata": {},
     "output_type": "execute_result"
    }
   ],
   "source": [
    "np.roots(coeff)"
   ]
  },
  {
   "cell_type": "code",
   "execution_count": 37,
   "metadata": {},
   "outputs": [],
   "source": [
    "coeff[1] = -37"
   ]
  },
  {
   "cell_type": "code",
   "execution_count": 38,
   "metadata": {},
   "outputs": [
    {
     "data": {
      "text/plain": [
       "array([16.11915507+0.j        ,  5.03509581+5.14974938j,\n",
       "        5.03509581-5.14974938j,  2.82103813+1.72812159j,\n",
       "        2.82103813-1.72812159j,  2.08438754+0.2493524j ,\n",
       "        2.08438754-0.2493524j ,  0.99980196+0.j        ])"
      ]
     },
     "execution_count": 38,
     "metadata": {},
     "output_type": "execute_result"
    }
   ],
   "source": [
    "np.roots(coeff)"
   ]
  },
  {
   "cell_type": "code",
   "execution_count": 39,
   "metadata": {},
   "outputs": [
    {
     "name": "stdout",
     "output_type": "stream",
     "text": [
      "0 0.0 40320.0 1.0\n",
      "1 0.5 7918.06640625 0.5\n",
      "2 0.75 2310.373306274414 0.25\n",
      "3 0.875 861.5495815873146 0.125\n"
     ]
    }
   ],
   "source": [
    "g = lambda x: x**2 -3*x + 4\n",
    "bisection(f, -1.0, 1.0, 4, 0.000001)"
   ]
  },
  {
   "cell_type": "code",
   "execution_count": 10,
   "metadata": {},
   "outputs": [
    {
     "name": "stdout",
     "output_type": "stream",
     "text": [
      "1.0 2.0 1.0 1.4142135623730951\n"
     ]
    }
   ],
   "source": [
    "h = lambda x: x**(1/2)\n",
    "bisection(h, 1.0, 2.0, 50, 0.000001)"
   ]
  }
 ],
 "metadata": {
  "kernelspec": {
   "display_name": "Python 3",
   "language": "python",
   "name": "python3"
  },
  "language_info": {
   "codemirror_mode": {
    "name": "ipython",
    "version": 3
   },
   "file_extension": ".py",
   "mimetype": "text/x-python",
   "name": "python",
   "nbconvert_exporter": "python",
   "pygments_lexer": "ipython3",
   "version": "3.7.4"
  }
 },
 "nbformat": 4,
 "nbformat_minor": 2
}
