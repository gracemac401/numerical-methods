{
 "cells": [
  {
   "cell_type": "code",
   "execution_count": 1,
   "metadata": {},
   "outputs": [],
   "source": [
    "def InvInterpolate(x, y, t):\n",
    "    res = 0\n",
    "    for i in range(len(x)):\n",
    "        xi = x[i]\n",
    "        for j in range(len(x)):\n",
    "            if i != j:\n",
    "                xi = (xi * (t - y[j])/(y[i] - y[j]))\n",
    "        res += xi\n",
    "    return res"
   ]
  },
  {
   "cell_type": "code",
   "execution_count": 2,
   "metadata": {},
   "outputs": [
    {
     "name": "stdout",
     "output_type": "stream",
     "text": [
      "value of x for f(x)= 0  :  4.175000000000004\n"
     ]
    }
   ],
   "source": [
    "x = [1.4, 1.25]\n",
    "y = [3.7, 3.9]\n",
    "t = 0\n",
    "print(\"value of x for f(x)=\",t,\" : \", InvInterpolate(x,y,t))\n"
   ]
  },
  {
   "cell_type": "code",
   "execution_count": 3,
   "metadata": {},
   "outputs": [],
   "source": [
    "def lagrangeInterpolate(x, y, t):\n",
    "    p = 0\n",
    "    for i in range(len(x)):\n",
    "        L = 1\n",
    "        for j in range(len(x)):\n",
    "            if i != j:\n",
    "                L = L * (t - x[j])/(x[i] - x[j])\n",
    "        p = p + L*y[i]\n",
    "    return p"
   ]
  },
  {
   "cell_type": "code",
   "execution_count": 4,
   "metadata": {},
   "outputs": [
    {
     "name": "stdout",
     "output_type": "stream",
     "text": [
      "value of y for x= 4.175  :  1.4210854715202004e-14\n"
     ]
    }
   ],
   "source": [
    "t = 4.175\n",
    "print(\"value of y for x=\", t,\" : \", lagrangeInterpolate(x,y,t))"
   ]
  }
 ],
 "metadata": {
  "kernelspec": {
   "display_name": "Python 3",
   "language": "python",
   "name": "python3"
  },
  "language_info": {
   "codemirror_mode": {
    "name": "ipython",
    "version": 3
   },
   "file_extension": ".py",
   "mimetype": "text/x-python",
   "name": "python",
   "nbconvert_exporter": "python",
   "pygments_lexer": "ipython3",
   "version": "3.7.4"
  }
 },
 "nbformat": 4,
 "nbformat_minor": 2
}
