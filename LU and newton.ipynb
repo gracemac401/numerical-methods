{
 "cells": [
  {
   "cell_type": "code",
   "execution_count": 1,
   "metadata": {},
   "outputs": [],
   "source": [
    "import numpy as np"
   ]
  },
  {
   "cell_type": "code",
   "execution_count": 2,
   "metadata": {},
   "outputs": [],
   "source": [
    "import sympy as sp"
   ]
  },
  {
   "cell_type": "code",
   "execution_count": 3,
   "metadata": {},
   "outputs": [],
   "source": [
    "def LU(A, L, U, n):\n",
    "    #print(\"A: \\n\",A)\n",
    "    if (U[0][0] != 0):\n",
    "        for i in range(0, n):\n",
    "            L[i][0] = A[i][0]/U[0][0]\n",
    "            U[0][i] = A[0][i]/L[0][0]\n",
    "    else:\n",
    "        for i in range(0, n):\n",
    "            U[0][i] = A[0][i]/L[0][0]\n",
    "            L[i][0] = A[i][0]/U[0][0]\n",
    "    for k in range(0, n):\n",
    "        if (U[k][k]!=0):\n",
    "            for i in range(k, n):\n",
    "                sum = 0\n",
    "                for m in range(0, k):\n",
    "                    sum += L[i][m]*U[m][k]\n",
    "                L[i][k] = (1 / U[k][k]) * (A[i][k] - sum)\n",
    "            for j in range (k, n):\n",
    "                sum = 0\n",
    "                for m in range (0, k):\n",
    "                    sum += L[k][m] * U[m][j]\n",
    "                U[k][j] = (1 / L[k][k]) * (A[k][j] - sum)\n",
    "        else:\n",
    "            for j in range (k, n):\n",
    "                sum = 0\n",
    "                for m in range (0, k):\n",
    "                    sum += L[k][m] * U[m][j]\n",
    "                U[k][j] = (1 / L[k][k]) * (A[k][j] - sum)\n",
    "            for i in range(k, n):\n",
    "                sum = 0\n",
    "                for m in range(0, k):\n",
    "                    sum += L[i][m]*U[m][k]\n",
    "                L[i][k] = (1 / U[k][k]) * (A[i][k] - sum)\n",
    "    print(\"L: \\n\",np.round_(L, 2))\n",
    "    print(\"U: \\n\",np.round_(U, 2))\n",
    "    return np.round_(L, 2), np.round_(U, 2)\n"
   ]
  },
  {
   "cell_type": "code",
   "execution_count": 4,
   "metadata": {},
   "outputs": [],
   "source": [
    "def check_LU_result(A, L, U):\n",
    "    res = np.matmul(L, U)\n",
    "    return np.allclose(res, A)"
   ]
  },
  {
   "cell_type": "code",
   "execution_count": 18,
   "metadata": {
    "scrolled": true
   },
   "outputs": [
    {
     "name": "stdout",
     "output_type": "stream",
     "text": [
      "L: \n",
      " [[ 1.   0.   0.   0. ]\n",
      " [ 1.4  1.   0.   0. ]\n",
      " [ 1.2 -2.   1.   0. ]\n",
      " [ 1.   0.   1.5  1. ]]\n",
      "U: \n",
      " [[ 5.   7.   6.   5. ]\n",
      " [ 0.   0.2 -0.4 -0. ]\n",
      " [ 0.   0.   2.   3. ]\n",
      " [ 0.   0.   0.   0.5]]\n",
      "True\n",
      "L: \n",
      " [[ 5.   0.   0.   0. ]\n",
      " [ 7.   0.2  0.   0. ]\n",
      " [ 6.  -0.4  2.   0. ]\n",
      " [ 5.  -0.   3.   0.5]]\n",
      "U: \n",
      " [[ 1.   1.4  1.2  1. ]\n",
      " [ 0.   1.  -2.   0. ]\n",
      " [ 0.   0.   1.   1.5]\n",
      " [ 0.   0.   0.   1. ]]\n",
      "True\n",
      "L: \n",
      " [[ 1.   0.   0.   0. ]\n",
      " [ 1.4  0.2  0.   0. ]\n",
      " [ 1.2 -0.4  1.   0. ]\n",
      " [ 1.   0.   1.5  0.5]]\n",
      "U: \n",
      " [[ 5.  7.  6.  5.]\n",
      " [ 0.  1. -2. -0.]\n",
      " [ 0.  0.  2.  3.]\n",
      " [ 0.  0.  0.  1.]]\n",
      "True\n",
      "L: \n",
      " [[ 5.  0.  0.  0.]\n",
      " [ 7.  1.  0.  0.]\n",
      " [ 6. -2.  2.  0.]\n",
      " [ 5. -0.  3.  1.]]\n",
      "U: \n",
      " [[ 1.   1.4  1.2  1. ]\n",
      " [ 0.   0.2 -0.4  0. ]\n",
      " [ 0.   0.   1.   1.5]\n",
      " [ 0.   0.   0.   0.5]]\n",
      "True\n",
      "L: \n",
      " [[ 1.67  0.    0.    0.  ]\n",
      " [ 2.33  0.04  0.    0.  ]\n",
      " [ 2.   -0.08  7.    0.  ]\n",
      " [ 1.67 -0.   10.5   9.  ]]\n",
      "U: \n",
      " [[  3.     4.2    3.6    3.  ]\n",
      " [  0.     5.   -10.     0.  ]\n",
      " [  0.     0.     0.29   0.43]\n",
      " [  0.     0.     0.     0.06]]\n",
      "True\n"
     ]
    }
   ],
   "source": [
    "a_matrix = np.array([[5, 7, 6, 5], [7, 10, 8, 7], [6, 8, 10, 9], [5, 7, 9, 10]], dtype=float)\n",
    "#L = np.zeros((4, 4), dtype=float)\n",
    "#U = np.zeros((4, 4), dtype=float)\n",
    "#LU_l(a_matrix, U, 1., 1., 4)\n",
    "L = np.array([[1, 0, 0, 0], [0, 1, 0, 0], [0, 0, 1, 0], [0, 0, 0, 1]], dtype=float)\n",
    "U = np.zeros((4, 4))\n",
    "LU(a_matrix, L, U, np.size(L[0]))\n",
    "print(check_LU_result(a_matrix, L, U))\n",
    "L = np.zeros((4, 4))\n",
    "U = np.array([[1, 0, 0, 0], [0, 1, 0, 0], [0, 0, 1, 0], [0, 0, 0, 1]], dtype=float)\n",
    "LU(a_matrix, L, U, np.size(L[0]))\n",
    "print(check_LU_result(a_matrix, L, U))\n",
    "L = np.array([[1, 0, 0, 0], [0, 0, 0, 0], [0, 0, 1, 0], [0, 0, 0, 0]], dtype=float)\n",
    "U = np.array([[0, 0, 0, 0], [0, 1, 0, 0], [0, 0, 0, 0], [0, 0, 0, 1]], dtype=float)\n",
    "LU(a_matrix, L, U, np.size(L[0]))\n",
    "print(check_LU_result(a_matrix, L, U))\n",
    "L = np.array([[0, 0, 0, 0], [0, 1, 0, 0], [0, 0, 0, 0], [0, 0, 0, 1]], dtype=float)\n",
    "U = np.array([[1, 0, 0, 0], [0, 0, 0, 0], [0, 0, 1, 0], [0, 0, 0, 0]], dtype=float)\n",
    "LU(a_matrix, L, U, np.size(L[0]))\n",
    "print(check_LU_result(a_matrix, L, U))\n",
    "L = np.array([[0, 0, 0, 0], [0, 0,0, 0], [0, 0, 7,0], [0, 0, 0, 9]], dtype=float)\n",
    "U = np.array([[3, 0, 0, 0], [0, 5, 0, 0], [0, 0, 0, 0], [0, 0, 0, 0]], dtype=float)\n",
    "LU(a_matrix, L, U, np.size(L[0]))\n",
    "print(check_LU_result(a_matrix, L, U))"
   ]
  },
  {
   "cell_type": "code",
   "execution_count": 39,
   "metadata": {},
   "outputs": [],
   "source": [
    "def multi_newton(Li, Ui, Df, f, k):\n",
    "    X = np.array([[1, 1]], dtype=float).reshape(2,1)\n",
    "    h = 0.\n",
    "    L = np.zeros((2,2), dtype=float)\n",
    "    U = np.zeros((2,2), dtype=float)\n",
    "    for i in range(k):\n",
    "        L, U = LU(Df(X[0],X[1]), Li, Ui, np.size(L[0]))\n",
    "        y = forward_solve(L, -f(X[0],X[1]))\n",
    "        h = back_solve(U, y)\n",
    "        X += h.reshape(2,1)\n",
    "    return X[0], X[1]"
   ]
  },
  {
   "cell_type": "code",
   "execution_count": 8,
   "metadata": {
    "scrolled": true
   },
   "outputs": [],
   "source": [
    "def forward_solve(A, b):\n",
    "    n = len(b)\n",
    "    x = np.zeros(n)\n",
    "    for i in range(n):\n",
    "        x[i] = b[i]\n",
    "        for j in range(0,i):\n",
    "            x[i] -= A[i][j] * x[j]\n",
    "        x[i] /= A[i][i]\n",
    "    return x"
   ]
  },
  {
   "cell_type": "code",
   "execution_count": 9,
   "metadata": {},
   "outputs": [],
   "source": [
    "def back_solve(A, b):\n",
    "    n = len(b)\n",
    "    x = np.zeros(n)\n",
    "    for i in range(n-1, -1, -1):\n",
    "        x[i] = b[i]\n",
    "        for j in range(0,i):\n",
    "            x[i] -= A[i][j] * x[j]\n",
    "        x[i] /= A[i][i]\n",
    "    return x"
   ]
  },
  {
   "cell_type": "code",
   "execution_count": null,
   "metadata": {},
   "outputs": [],
   "source": []
  },
  {
   "cell_type": "code",
   "execution_count": 48,
   "metadata": {},
   "outputs": [
    {
     "name": "stdout",
     "output_type": "stream",
     "text": [
      "[[1.]\n",
      " [1.]]\n",
      "L: \n",
      " [[1.  0. ]\n",
      " [0.5 1. ]]\n",
      "U: \n",
      " [[2. 2.]\n",
      " [0. 1.]]\n",
      "L: \n",
      " [[2.5 0. ]\n",
      " [0.5 1.8]]\n",
      "U: \n",
      " [[2.  0.4]\n",
      " [0.  1. ]]\n",
      "L: \n",
      " [[2.2  0.  ]\n",
      " [0.5  1.57]]\n",
      "U: \n",
      " [[2.   0.86]\n",
      " [0.   1.  ]]\n",
      "L: \n",
      " [[2.03 0.  ]\n",
      " [0.5  1.51]]\n",
      "U: \n",
      " [[2.   0.98]\n",
      " [0.   1.  ]]\n",
      "L: \n",
      " [[2.  0. ]\n",
      " [0.5 1.5]]\n",
      "U: \n",
      " [[2. 1.]\n",
      " [0. 1.]]\n",
      "\n",
      "x( 5 ) = [2.00007187] , [1.00000178] \n",
      "\n"
     ]
    }
   ],
   "source": [
    "x, y = sp.symbols(\"x, y\")\n",
    "f_mat = sp.Matrix([x**2 + y**2 - 5, x + 2*y - 4])\n",
    "D = f_mat.jacobian(sp.Matrix([x, y]))\n",
    "s = (x, y)\n",
    "d_func = sp.lambdify(s, D, modules='numpy')\n",
    "f_func = sp.lambdify(s, f_mat, modules='numpy')\n",
    "Li = np.array([[1, 0], [0, 1]], dtype=float)\n",
    "Ui = np.array([[0, 0], [0, 0]], dtype=float)\n",
    "it = 5\n",
    "X = multi_newton(Li, Ui, d_func, f_func, it)\n",
    "print(\"\\nx(\",it,\") =\", X[0],\",\",X[1],\"\\n\")"
   ]
  },
  {
   "cell_type": "code",
   "execution_count": null,
   "metadata": {},
   "outputs": [],
   "source": []
  }
 ],
 "metadata": {
  "kernelspec": {
   "display_name": "Python 3",
   "language": "python",
   "name": "python3"
  },
  "language_info": {
   "codemirror_mode": {
    "name": "ipython",
    "version": 3
   },
   "file_extension": ".py",
   "mimetype": "text/x-python",
   "name": "python",
   "nbconvert_exporter": "python",
   "pygments_lexer": "ipython3",
   "version": "3.7.4"
  }
 },
 "nbformat": 4,
 "nbformat_minor": 2
}
